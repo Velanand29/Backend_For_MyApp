{
 "cells": [
  {
   "cell_type": "code",
   "execution_count": null,
   "metadata": {},
   "outputs": [],
   "source": [
    "import pandas as pd\n",
    "\n",
    "from jugaad_data.nse import NSELive\n",
    "\n",
    "n = NSELive()\n",
    "status = n.market_status()\n",
    "all_indices = n.all_indices()\n",
    "\n",
    "# Create a Pandas DataFrame for the market status\n",
    "df_status = pd.DataFrame({'Market Status': [status['marketState']]})\n",
    "\n",
    "# Create a Pandas DataFrame for the all indices\n",
    "df_all_indices = pd.DataFrame(all_indices['data'])\n",
    "\n",
    "# Combine the two DataFrames\n",
    "df = pd.concat([df_status, df_all_indices], axis=1)\n",
    "\n",
    "# Print the DataFrame\n",
    "print(df)\n"
   ]
  }
 ],
 "metadata": {
  "language_info": {
   "name": "python"
  }
 },
 "nbformat": 4,
 "nbformat_minor": 2
}
